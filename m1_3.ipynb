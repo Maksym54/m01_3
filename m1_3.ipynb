{
  "metadata": {
    "kernelspec": {
      "name": "python",
      "display_name": "Python (Pyodide)",
      "language": "python"
    },
    "language_info": {
      "codemirror_mode": {
        "name": "python",
        "version": 3
      },
      "file_extension": ".py",
      "mimetype": "text/x-python",
      "name": "python",
      "nbconvert_exporter": "python",
      "pygments_lexer": "ipython3",
      "version": "3.8"
    }
  },
  "nbformat_minor": 4,
  "nbformat": 4,
  "cells": [
    {
      "cell_type": "code",
      "source": "import numpy as np\n\nvector = np.arange(1, 11)\nprint(vector)",
      "metadata": {
        "trusted": true
      },
      "outputs": [
        {
          "name": "stdout",
          "text": "[ 1  2  3  4  5  6  7  8  9 10]\n",
          "output_type": "stream"
        }
      ],
      "execution_count": 7
    },
    {
      "cell_type": "code",
      "source": "matrix = np.zeros((3, 3))\nprint(\"\\nДвовимірний масив розміром 3x3:\")\nprint(matrix)",
      "metadata": {
        "trusted": true
      },
      "outputs": [
        {
          "name": "stdout",
          "text": "\nДвовимірний масив розміром 3x3:\n[[0. 0. 0.]\n [0. 0. 0.]\n [0. 0. 0.]]\n",
          "output_type": "stream"
        }
      ],
      "execution_count": 5
    },
    {
      "cell_type": "code",
      "source": "random_matrix = np.random.randint(1, 11, (5, 5))\nprint(\"\\nМасив розміром 5x5,:\")\nprint(random_matrix)",
      "metadata": {
        "trusted": true
      },
      "outputs": [
        {
          "name": "stdout",
          "text": "\nМасив розміром 5x5,:\n[[ 3  8  7 10  9]\n [ 7  7  4  8  2]\n [ 6  1  4 10  4]\n [ 1  4  9  8  6]\n [ 6  8  8 10  7]]\n",
          "output_type": "stream"
        }
      ],
      "execution_count": 8
    },
    {
      "cell_type": "code",
      "source": "random_float_matrix = np.random.uniform(0, 1, (4, 4))\nprint(\"\\nМасив розміром 4x4:\")\nprint(random_float_matrix)",
      "metadata": {
        "trusted": true
      },
      "outputs": [
        {
          "name": "stdout",
          "text": "\nМасив розміром 4x4:\n[[0.93236583 0.97464956 0.47241392 0.88045261]\n [0.34283076 0.35966074 0.56819986 0.6359443 ]\n [0.45731737 0.07886957 0.6655445  0.57086315]\n [0.36171522 0.19944875 0.51040512 0.4366337 ]]\n",
          "output_type": "stream"
        }
      ],
      "execution_count": 9
    },
    {
      "cell_type": "code",
      "source": "# Завдання 5\nvector1 = np.random.randint(1, 11, 5)\nvector2 = np.random.randint(1, 11, 5)\nprint(\"\\nмасив 1:\")\nprint(vector1)\nprint(\"масив 2:\")\nprint(vector2)\nprint(\"Додавання:\", vector1 + vector2)\nprint(\"Віднімання:\", vector1 - vector2)\nprint(\"Множення:\", vector1 * vector2)",
      "metadata": {
        "trusted": true
      },
      "outputs": [
        {
          "name": "stdout",
          "text": "\nмасив 1:\n[2 5 8 2 9]\nмасив 2:\n[2 2 4 7 3]\nДодавання: [ 4  7 12  9 12]\nВіднімання: [ 0  3  4 -5  6]\nМноження: [ 4 10 32 14 27]\n",
          "output_type": "stream"
        }
      ],
      "execution_count": 10
    },
    {
      "cell_type": "code",
      "source": "# Завдання 6\nvector3 = np.random.randint(1, 11, 7)\nvector4 = np.random.randint(1, 11, 7)\nprint(\"\\nСкалярний добуток двох векторів:\")\nprint(np.dot(vector3, vector4))",
      "metadata": {
        "trusted": true
      },
      "outputs": [
        {
          "name": "stdout",
          "text": "\nСкалярний добуток двох векторів:\n239\n",
          "output_type": "stream"
        }
      ],
      "execution_count": 11
    },
    {
      "cell_type": "code",
      "source": "# Завдання 7\nmatrix1 = np.random.randint(1, 11, (2, 2))\nmatrix2 = np.random.randint(1, 11, (2, 3))\nprint(\"\\nДві матриці розміром 2x2 та 2x3, перемножені між собою:\")\nprint(np.dot(matrix1, matrix2))",
      "metadata": {
        "trusted": true
      },
      "outputs": [
        {
          "name": "stdout",
          "text": "\nДві матриці розміром 2x2 та 2x3, перемножені між собою:\n[[52 90 78]\n [54 95 81]]\n",
          "output_type": "stream"
        }
      ],
      "execution_count": 12
    },
    {
      "cell_type": "code",
      "source": "# Завдання 8\nmatrix3 = np.random.randint(1, 11, (3, 3))\nprint(\"\\nМатриця розміром 3x3, обернена матриця:\")\nprint(np.linalg.inv(matrix3))",
      "metadata": {
        "trusted": true
      },
      "outputs": [
        {
          "name": "stdout",
          "text": "\nМатриця розміром 3x3, обернена матриця:\n[[-0.78125   0.578125  0.0625  ]\n [ 0.4375   -0.34375   0.125   ]\n [ 0.0625    0.09375  -0.125   ]]\n",
          "output_type": "stream"
        }
      ],
      "execution_count": 13
    },
    {
      "cell_type": "code",
      "source": "# Завдання 9\nmatrix4 = np.random.uniform(0, 1, (4, 4))\nprint(\"\\nМатриця розміром 4x4, транспонована матриця:\")\nprint(matrix4.T)",
      "metadata": {
        "trusted": true
      },
      "outputs": [
        {
          "name": "stdout",
          "text": "\nМатриця розміром 4x4, транспонована матриця:\n[[0.80767215 0.32873559 0.46075331 0.0057068 ]\n [0.85232252 0.48022563 0.24933939 0.73494684]\n [0.95778865 0.86405644 0.88450344 0.54552632]\n [0.4996966  0.83940038 0.45544131 0.02849444]]\n",
          "output_type": "stream"
        }
      ],
      "execution_count": 14
    },
    {
      "cell_type": "code",
      "source": "# Завдання 10\nmatrix5 = np.random.randint(1, 11, (3, 4))\nvector5 = np.random.randint(1, 11, 4)\nprint(\"\\nМатриця розміром 3x4 та вектор розміром 4, перемножена матрицю на вектор:\")\nprint(np.dot(matrix5, vector5))",
      "metadata": {
        "trusted": true
      },
      "outputs": [
        {
          "name": "stdout",
          "text": "\nМатриця розміром 3x4 та вектор розміром 4, перемножена матрицю на вектор:\n[167 112 125]\n",
          "output_type": "stream"
        }
      ],
      "execution_count": 15
    },
    {
      "cell_type": "code",
      "source": "# Завдання 11\nmatrix6 = np.random.uniform(0, 1, (2, 3))\nvector6 = np.random.uniform(0, 1, 3)\nprint(\"\\nМатриця розміром 2x3 та вектор розміром 3, перемножена матрицю на вектор:\")\nprint(np.dot(matrix6, vector6))",
      "metadata": {
        "trusted": true
      },
      "outputs": [
        {
          "name": "stdout",
          "text": "\nМатриця розміром 2x3 та вектор розміром 3, перемножена матрицю на вектор:\n[0.77562683 0.99375868]\n",
          "output_type": "stream"
        }
      ],
      "execution_count": 16
    },
    {
      "cell_type": "code",
      "source": "# Завдання 12\nmatrix7 = np.random.randint(1, 11, (2, 2))\nmatrix8 = np.random.randint(1, 11, (2, 2))\nprint(\"\\nДві матриці розміром 2x2, поелементне множення:\")\nprint(matrix7 * matrix8)",
      "metadata": {
        "trusted": true
      },
      "outputs": [
        {
          "name": "stdout",
          "text": "\nДві матриці розміром 2x2, поелементне множення:\n[[35 20]\n [35 70]]\n",
          "output_type": "stream"
        }
      ],
      "execution_count": 17
    },
    {
      "cell_type": "code",
      "source": "# Завдання 13\nprint(\"\\nДві матриці розміром 2x2, добуток:\")\nprint(np.dot(matrix7, matrix8))",
      "metadata": {
        "trusted": true
      },
      "outputs": [
        {
          "name": "stdout",
          "text": "\nДві матриці розміром 2x2, добуток:\n[[ 63  53]\n [105  95]]\n",
          "output_type": "stream"
        }
      ],
      "execution_count": 18
    },
    {
      "cell_type": "code",
      "source": "# Завдання 14\nmatrix9 = np.random.randint(1, 101, (5, 5))\nprint(\"\\nМатриця розміром 5x5, сума елементів:\")\nprint(np.sum(matrix9))",
      "metadata": {
        "trusted": true
      },
      "outputs": [
        {
          "name": "stdout",
          "text": "\nМатриця розміром 5x5, сума елементів:\n1324\n",
          "output_type": "stream"
        }
      ],
      "execution_count": 19
    },
    {
      "cell_type": "code",
      "source": "# Завдання 15\nmatrix10 = np.random.randint(1, 11, (4, 4))\nmatrix11 = np.random.randint(1, 11, (4, 4))\nprint(\"\\nДві матриці розміром 4x4, різниця:\")\nprint(matrix10 - matrix11)",
      "metadata": {
        "trusted": true
      },
      "outputs": [
        {
          "name": "stdout",
          "text": "\nДві матриці розміром 4x4, різниця:\n[[ 4  6 -1 -6]\n [-9  3  1  2]\n [ 4  4 -2 -3]\n [-2 -2  3 -4]]\n",
          "output_type": "stream"
        }
      ],
      "execution_count": 20
    },
    {
      "cell_type": "code",
      "source": "# Завдання 16\nmatrix12 = np.random.uniform(0, 1, (3, 3))\nprint(np.sum(matrix12, axis=1))",
      "metadata": {
        "trusted": true
      },
      "outputs": [
        {
          "name": "stdout",
          "text": "[0.75929675 1.4801763  2.06860324]\n",
          "output_type": "stream"
        }
      ],
      "execution_count": 21
    },
    {
      "cell_type": "code",
      "source": "# Завдання 17\nmatrix13 = np.random.randint(1, 11, (3, 4))\nprint(\"\\nМатриця розміром 3x4 з довільними цілими числами:\")\nprint(matrix13)\nprint(\"Матриця з квадратами цих чисел:\")\nprint(matrix13**2)",
      "metadata": {
        "trusted": true
      },
      "outputs": [
        {
          "name": "stdout",
          "text": "\nМатриця розміром 3x4 з довільними цілими числами:\n[[ 3  5  2  5]\n [ 8  9 10  4]\n [ 1  8  9  8]]\nМатриця з квадратами цих чисел:\n[[  9  25   4  25]\n [ 64  81 100  16]\n [  1  64  81  64]]\n",
          "output_type": "stream"
        }
      ],
      "execution_count": 22
    },
    {
      "cell_type": "code",
      "source": "# Завдання 18\nvector7 = np.random.randint(1, 51, 4)\nprint(\"\\nВектор розміром 4, заповнений випадковими цілими числами в діапазоні від 1 до 50:\")\nprint(vector7)\nprint(\"Вектор з квадратними коренями цих чисел:\")\nprint(np.sqrt(vector7))",
      "metadata": {
        "trusted": true
      },
      "outputs": [
        {
          "name": "stdout",
          "text": "\nВектор розміром 4, заповнений випадковими цілими числами в діапазоні від 1 до 50:\n[45 39 31 29]\nВектор з квадратними коренями цих чисел:\n[6.70820393 6.244998   5.56776436 5.38516481]\n",
          "output_type": "stream"
        }
      ],
      "execution_count": 23
    },
    {
      "cell_type": "code",
      "source": "",
      "metadata": {
        "trusted": true
      },
      "outputs": [],
      "execution_count": null
    }
  ]
}